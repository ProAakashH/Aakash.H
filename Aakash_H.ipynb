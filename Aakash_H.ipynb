{
  "nbformat": 4,
  "nbformat_minor": 0,
  "metadata": {
    "colab": {
      "name": "Aakash_H.ipynb",
      "provenance": [],
      "collapsed_sections": [],
      "authorship_tag": "ABX9TyNdoJvSjE9B6jwhNcl6YYXE",
      "include_colab_link": true
    },
    "kernelspec": {
      "name": "python3",
      "display_name": "Python 3"
    }
  },
  "cells": [
    {
      "cell_type": "markdown",
      "metadata": {
        "id": "view-in-github",
        "colab_type": "text"
      },
      "source": [
        "<a href=\"https://colab.research.google.com/github/ProAakashH/Aakash.H/blob/main/Aakash_H.ipynb\" target=\"_parent\"><img src=\"https://colab.research.google.com/assets/colab-badge.svg\" alt=\"Open In Colab\"/></a>"
      ]
    },
    {
      "cell_type": "markdown",
      "metadata": {
        "id": "7DW-s73Dn1Bv"
      },
      "source": [
        "\r\n",
        "Importing the pandas,numpy and sklearn *\"as pd as np\"* means we can call them in program by their nicknames"
      ]
    },
    {
      "cell_type": "code",
      "metadata": {
        "id": "zuYcLkVnRSi_"
      },
      "source": [
        "import pandas as pd\r\n",
        "import numpy as np\r\n",
        "import sklearn"
      ],
      "execution_count": null,
      "outputs": []
    },
    {
      "cell_type": "markdown",
      "metadata": {
        "id": "hm_MDvjSn1a1"
      },
      "source": [
        "We'r importing the load_iris which we'r going to tamper"
      ]
    },
    {
      "cell_type": "code",
      "metadata": {
        "id": "q5tzpDOORWe2"
      },
      "source": [
        "from sklearn.datasets import load_iris\r\n",
        "iris_dataset=load_iris()"
      ],
      "execution_count": null,
      "outputs": []
    },
    {
      "cell_type": "markdown",
      "metadata": {
        "id": "wBF5Szm9n2A_"
      },
      "source": [
        "Importing the train_test _split .So, that we can split the dataset of iris into two. Part one is 75% data of the dataset for teaching and the another one is 25% data of the dataset for testing"
      ]
    },
    {
      "cell_type": "code",
      "metadata": {
        "id": "gLsDFNMER6iD"
      },
      "source": [
        " from sklearn.model_selection import train_test_split\r\n",
        "x_train, x_test, y_train, y_test = train_test_split(\r\n",
        "    iris_dataset['data'],iris_dataset['target'],random_state=0)"
      ],
      "execution_count": null,
      "outputs": []
    },
    {
      "cell_type": "markdown",
      "metadata": {
        "id": "pEd1tR4ln2od"
      },
      "source": [
        "x_train and y_train are the samples and target. x_test and y_test are also the samples and target. But x_train and y_train are for teaching and x_test and y_test are for testing. Below we can see the shape of the ndarrays "
      ]
    },
    {
      "cell_type": "code",
      "metadata": {
        "colab": {
          "base_uri": "https://localhost:8080/"
        },
        "id": "xIOU3UgrVl8S",
        "outputId": "afaa8805-4b32-4071-ab38-645b356b9c1a"
      },
      "source": [
        "print(\"x_train shape : {}\".format(x_train.shape))\r\n",
        "print(\"y_train shape : {}\".format(y_train.shape))\r\n",
        "print(\"x_test shape : {}\".format(x_test.shape))\r\n",
        "print(\"y_test shape : {}\".format(y_test.shape))"
      ],
      "execution_count": null,
      "outputs": [
        {
          "output_type": "stream",
          "text": [
            "x_train shape : (112, 4)\n",
            "y_train shape : (112,)\n",
            "x_test shape : (38, 4)\n",
            "y_test shape : (38,)\n"
          ],
          "name": "stdout"
        }
      ]
    },
    {
      "cell_type": "markdown",
      "metadata": {
        "id": "NDgsYHZzn3Zk"
      },
      "source": [
        "KNeighborsClassifier is one of the main thing that determines the accuracy of our mybot. We created a bot which is named as mybot "
      ]
    },
    {
      "cell_type": "code",
      "metadata": {
        "id": "dEuzOYBEWLgR"
      },
      "source": [
        "from sklearn.neighbors import KNeighborsClassifier\r\n",
        "mybot = KNeighborsClassifier(n_neighbors=1) "
      ],
      "execution_count": null,
      "outputs": []
    },
    {
      "cell_type": "markdown",
      "metadata": {
        "id": "1UihTlC3n4py"
      },
      "source": [
        "Here we'r teaching the mybot with the data we splited"
      ]
    },
    {
      "cell_type": "code",
      "metadata": {
        "colab": {
          "base_uri": "https://localhost:8080/"
        },
        "id": "NV8xlJ9yW2d9",
        "outputId": "ec5dc8e6-73d1-48e1-a1af-bc372c2e6e8a"
      },
      "source": [
        "mybot.fit(x_train,y_train)"
      ],
      "execution_count": null,
      "outputs": [
        {
          "output_type": "execute_result",
          "data": {
            "text/plain": [
              "KNeighborsClassifier(algorithm='auto', leaf_size=30, metric='minkowski',\n",
              "                     metric_params=None, n_jobs=None, n_neighbors=1, p=2,\n",
              "                     weights='uniform')"
            ]
          },
          "metadata": {
            "tags": []
          },
          "execution_count": 102
        }
      ]
    },
    {
      "cell_type": "markdown",
      "metadata": {
        "id": "DPYAe7Ikn5Ut"
      },
      "source": [
        "Here we just testing the mybot with some values to check whether our bot can predict or not "
      ]
    },
    {
      "cell_type": "code",
      "metadata": {
        "colab": {
          "base_uri": "https://localhost:8080/"
        },
        "id": "qVrGgYkkXFzb",
        "outputId": "41a0259d-7a27-4c11-b3af-26bad4dbcb37"
      },
      "source": [
        "x_new = np.array([[5,2.9,1,0.2]])\r\n",
        "print(\"x_new.shape : {}\".format(x_new.shape))"
      ],
      "execution_count": null,
      "outputs": [
        {
          "output_type": "stream",
          "text": [
            "x_new.shape : (1, 4)\n"
          ],
          "name": "stdout"
        }
      ]
    },
    {
      "cell_type": "code",
      "metadata": {
        "colab": {
          "base_uri": "https://localhost:8080/"
        },
        "id": "zgPR9p8wXvIL",
        "outputId": "44ae39e4-7e1b-48b7-c192-d76ff006aeb9"
      },
      "source": [
        "guess = mybot.predict(x_new)\r\n",
        "print (\"guess : {}\".format(guess))\r\n",
        "print (\"guess target_name : {}\".format(iris_dataset['target_names'][guess]))"
      ],
      "execution_count": null,
      "outputs": [
        {
          "output_type": "stream",
          "text": [
            "guess : [0]\n",
            "guess target_name : ['setosa']\n"
          ],
          "name": "stdout"
        }
      ]
    },
    {
      "cell_type": "markdown",
      "metadata": {
        "id": "Qq_Vu_dan7J0"
      },
      "source": [
        "We teached our mybot with the data form dataset and checked with random value for prediction and now we'r going to test mybot with test set that were splited from the iris dataset\r\n"
      ]
    },
    {
      "cell_type": "code",
      "metadata": {
        "colab": {
          "base_uri": "https://localhost:8080/"
        },
        "id": "i05459YVZ7bE",
        "outputId": "219649ca-dd02-449a-8ec1-8b6a7823d5d2"
      },
      "source": [
        "y_guess = mybot.predict(x_test)\r\n",
        "print(\"Test set guesses : \\n {}\".format(y_guess))"
      ],
      "execution_count": null,
      "outputs": [
        {
          "output_type": "stream",
          "text": [
            "Test set guesses : \n",
            " [2 1 0 2 0 2 0 1 1 1 2 1 1 1 1 0 1 1 0 0 2 1 0 0 2 0 0 1 1 0 2 1 0 2 2 1 0\n",
            " 2]\n"
          ],
          "name": "stdout"
        }
      ]
    },
    {
      "cell_type": "markdown",
      "metadata": {
        "id": "B9C2aUZ4n8QD"
      },
      "source": [
        "Now with the predictions of mybot and with the orginal data from the iris dataset we calculating the accuracy "
      ]
    },
    {
      "cell_type": "code",
      "metadata": {
        "colab": {
          "base_uri": "https://localhost:8080/"
        },
        "id": "xui8FZZhaflm",
        "outputId": "df720609-7f0d-4ff1-910d-2ed664f1604d"
      },
      "source": [
        "print(\"Test set score : {}\".format(np.mean(y_guess == y_test)))"
      ],
      "execution_count": null,
      "outputs": [
        {
          "output_type": "stream",
          "text": [
            "Test set score : 0.9736842105263158\n"
          ],
          "name": "stdout"
        }
      ]
    },
    {
      "cell_type": "markdown",
      "metadata": {
        "id": "5WV6PfPSn-MK"
      },
      "source": [
        "Our accuracy is very high until n_neighbors=23 and after that the accuracy drops  "
      ]
    }
  ]
}